{
 "cells": [
  {
   "cell_type": "markdown",
   "id": "ef6e72a4",
   "metadata": {},
   "source": [
    "# 1: Install Necessary Libraries and Open Tensor Board Logs"
   ]
  },
  {
   "cell_type": "code",
   "execution_count": null,
   "id": "ee34380f",
   "metadata": {},
   "outputs": [],
   "source": [
    "# Installing libraries namely tensorflow, opencv, mediapipe, sklearn and matplotlib\n",
    "\n",
    "!pip install tensorflow==2.4.1 tensorflow-gpu==2.4.1 opencv-python mediapipe sklearn matplotlib"
   ]
  },
  {
   "cell_type": "code",
   "execution_count": null,
   "id": "0438bc10",
   "metadata": {
    "scrolled": true
   },
   "outputs": [],
   "source": [
    "# Loading tensor board to check the performance and workflow of machine learning model\n",
    "\n",
    "%load_ext tensorboard\n",
    "%tensorboard --logdir Logs/"
   ]
  },
  {
   "cell_type": "markdown",
   "id": "e626b03c",
   "metadata": {},
   "source": [
    "# 2: Importing libraries and defining MediaPipe related functions"
   ]
  },
  {
   "cell_type": "code",
   "execution_count": 1,
   "id": "a863ffeb",
   "metadata": {},
   "outputs": [],
   "source": [
    "# Importing libraries\n",
    "\n",
    "import cv2\n",
    "import numpy as np\n",
    "import os\n",
    "from matplotlib import pyplot as plt\n",
    "import time\n",
    "import mediapipe as mp"
   ]
  },
  {
   "cell_type": "code",
   "execution_count": 2,
   "id": "a1112283",
   "metadata": {},
   "outputs": [],
   "source": [
    "# Initializing variables for MediaPipe holistic and drawing utilities\n",
    "\n",
    "mp_holistic = mp.solutions.holistic\n",
    "mp_drawing = mp.solutions.drawing_utils"
   ]
  },
  {
   "cell_type": "code",
   "execution_count": 3,
   "id": "0e990dd9",
   "metadata": {},
   "outputs": [],
   "source": [
    "# This funtion take an image and holistic funtion as an input to detect landmarks\n",
    "\n",
    "def mediapipe_detection(image, model):\n",
    "    image = cv2.cvtColor(image, cv2.COLOR_BGR2RGB)\n",
    "    image.flags.writeable = False\n",
    "    results = model.process(image)\n",
    "    image.flags.writeable = True\n",
    "    image = cv2.cvtColor(image, cv2.COLOR_RGB2BGR)\n",
    "    return image, results"
   ]
  },
  {
   "cell_type": "code",
   "execution_count": 4,
   "id": "a87a1e64",
   "metadata": {},
   "outputs": [],
   "source": [
    "# This funtion draw landmarks on the image it get as an input with the help of landmarks detected by mediapipe_detection \n",
    "# function\n",
    "\n",
    "def draw_landmarks(image, results):\n",
    "    # Draw face connections\n",
    "    mp_drawing.draw_landmarks(image, results.face_landmarks, mp_holistic.FACEMESH_CONTOURS, \n",
    "                             mp_drawing.DrawingSpec(color=(80,110,10), thickness=1, circle_radius=1), \n",
    "                             mp_drawing.DrawingSpec(color=(80,256,121), thickness=1, circle_radius=1)\n",
    "                             ) \n",
    "    # Draw pose connections\n",
    "    mp_drawing.draw_landmarks(image, results.pose_landmarks, mp_holistic.POSE_CONNECTIONS,\n",
    "                             mp_drawing.DrawingSpec(color=(80,22,10), thickness=2, circle_radius=4), \n",
    "                             mp_drawing.DrawingSpec(color=(80,44,121), thickness=2, circle_radius=2)\n",
    "                             ) \n",
    "    # Draw left hand connections\n",
    "    mp_drawing.draw_landmarks(image, results.left_hand_landmarks, mp_holistic.HAND_CONNECTIONS, \n",
    "                             mp_drawing.DrawingSpec(color=(121,22,76), thickness=2, circle_radius=4), \n",
    "                             mp_drawing.DrawingSpec(color=(121,44,250), thickness=2, circle_radius=2)\n",
    "                             ) \n",
    "    # Draw right hand connections  \n",
    "    mp_drawing.draw_landmarks(image, results.right_hand_landmarks, mp_holistic.HAND_CONNECTIONS, \n",
    "                             mp_drawing.DrawingSpec(color=(245,117,66), thickness=2, circle_radius=4), \n",
    "                             mp_drawing.DrawingSpec(color=(245,66,230), thickness=2, circle_radius=2)\n",
    "                             )"
   ]
  },
  {
   "cell_type": "code",
   "execution_count": 5,
   "id": "3a32a1c5",
   "metadata": {},
   "outputs": [],
   "source": [
    "# This is for testing the MediaPipe\n",
    "\n",
    "cap = cv2.VideoCapture(0)\n",
    "with mp_holistic.Holistic(min_detection_confidence = 0.5, min_tracking_confidence=0.5) as holistic:\n",
    "    while cap.isOpened():\n",
    "        ret, frame = cap.read()\n",
    "        image, results = mediapipe_detection(frame, holistic)\n",
    "        draw_landmarks(image, results)\n",
    "        cv2.imshow(\"Capture\", image)\n",
    "        \n",
    "        if cv2.waitKey(10) & 0xFF == ord('q'):\n",
    "            break\n",
    "        \n",
    "    cap.release()\n",
    "    cv2.destroyAllWindows()"
   ]
  },
  {
   "cell_type": "markdown",
   "id": "64e07a64",
   "metadata": {},
   "source": [
    "# 3: Extracting keypoints from images"
   ]
  },
  {
   "cell_type": "code",
   "execution_count": 14,
   "id": "9ed1e2e7",
   "metadata": {},
   "outputs": [],
   "source": [
    "# Extract the keypoints from the landmarks detected in an image\n",
    "\n",
    "def extract_keypoints(results):\n",
    "    pose = np.array([[res.x, res.y, res.z, res.visibility] for res in results.pose_landmarks.landmark]).flatten() if results.pose_landmarks else np.zeros(33*4)\n",
    "    lh = np.array([[res.x, res.y, res.z] for res in results.left_hand_landmarks.landmark]).flatten() if results.left_hand_landmarks else np.zeros(21*3)\n",
    "    rh = np.array([[res.x, res.y, res.z] for res in results.right_hand_landmarks.landmark]).flatten() if results.right_hand_landmarks else np.zeros(21*3)\n",
    "\n",
    "# Here we have excluded face keypoints because they are not necessary for sign language translation\n",
    "\n",
    "#     face = np.array([[res.x, res.y, res.z] for res in results.face_landmarks.landmark]).flatten() if results.face_landmarks else np.zeros(468*3)\n",
    "#     return np.concatenate([pose, face, lh, rh])\n",
    "    return np.concatenate([pose, lh, rh])"
   ]
  },
  {
   "cell_type": "markdown",
   "id": "6fbcd556",
   "metadata": {},
   "source": [
    "# 4: Creating directory to store the extracted keypoints"
   ]
  },
  {
   "cell_type": "code",
   "execution_count": 18,
   "id": "37388848",
   "metadata": {},
   "outputs": [],
   "source": [
    "# Creating a directory\n",
    "\n",
    "DATA_PATH = os.path.join('MP_Data') \n",
    "\n",
    "# Initializing variable to store data for the actions\n",
    "# NOTE: If we want to give data for a single action we can use:\n",
    "# actions = np.array(['goodbye'])\n",
    "# If we want to give data for multiple action we can use\n",
    "actions = np.array(['a', 'hello'])\n",
    "\n",
    "# Number of videos we want for each action\n",
    "\n",
    "no_sequences = 50\n",
    "\n",
    "# Number of frames in each video\n",
    "# NOTE: Once initialized do not change it or it will be hard to train the model on uneven number of frames for different \n",
    "# videos\n",
    "\n",
    "sequence_length = 20"
   ]
  },
  {
   "cell_type": "code",
   "execution_count": 19,
   "id": "76f14e41",
   "metadata": {},
   "outputs": [],
   "source": [
    "# Create folders for the action\n",
    "\n",
    "folderdict = {}\n",
    "for action in actions:\n",
    "    try:\n",
    "        asdf = sorted([int(i) for i in os.listdir(os.path.join(DATA_PATH, action))])\n",
    "        folderdict[action] = asdf[-1]\n",
    "    except:\n",
    "        # If folder does not exist create a new folder\n",
    "        \n",
    "        folderdict[action] = -1"
   ]
  },
  {
   "cell_type": "markdown",
   "id": "b71f32fc",
   "metadata": {},
   "source": [
    "# 5: Get keypoints from the video camera"
   ]
  },
  {
   "cell_type": "code",
   "execution_count": 21,
   "id": "41010b88",
   "metadata": {},
   "outputs": [],
   "source": [
    "# Start video camera and give action as input with the help of camera\n",
    "\n",
    "cap = cv2.VideoCapture(0)\n",
    "with mp_holistic.Holistic(min_detection_confidence=0.5, min_tracking_confidence=0.5) as holistic:\n",
    "    for action in actions:\n",
    "        for sequence in range(folderdict[action] + 1,folderdict[action] + no_sequences + 1):\n",
    "            for frame_num in range(sequence_length):\n",
    "                ret, frame = cap.read()\n",
    "\n",
    "                # Make detections\n",
    "                image, results = mediapipe_detection(frame, holistic)\n",
    "                \n",
    "                # Draw landmarks\n",
    "                draw_landmarks(image, results)\n",
    "                \n",
    "                if frame_num == 0: \n",
    "                    \n",
    "                    # Show the number of video we are collecting for the action\n",
    "                    \n",
    "                    cv2.putText(image, 'STARTING COLLECTION', (120,200), \n",
    "                               cv2.FONT_HERSHEY_SIMPLEX, 1, (0,255, 0), 4, cv2.LINE_AA)\n",
    "                    cv2.putText(image, 'Collecting frames for {} Video Number {}'.format(action, sequence), (15,12), \n",
    "                               cv2.FONT_HERSHEY_SIMPLEX, 0.5, (0, 0, 255), 1, cv2.LINE_AA)\n",
    "                    cv2.imshow('OpenCV Feed', image)\n",
    "                    cv2.waitKey(100)\n",
    "                    \n",
    "                else: \n",
    "                    cv2.putText(image, 'Collecting frames for {} Video Number {}'.format(action, sequence), (15,12), \n",
    "                               cv2.FONT_HERSHEY_SIMPLEX, 0.5, (0, 0, 255), 1, cv2.LINE_AA)\n",
    "                    cv2.imshow('OpenCV Feed', image)\n",
    "                \n",
    "                # Export keypoints\n",
    "                keypoints = extract_keypoints(results)\n",
    "                npy_path = os.path.join(DATA_PATH, action, str(sequence), str(frame_num))\n",
    "                np.save(npy_path, keypoints)\n",
    "\n",
    "                # Press 'q' from keyboard to exit video camera\n",
    "                if cv2.waitKey(10) & 0xFF == ord('q'):\n",
    "                    break\n",
    "                    \n",
    "    cap.release()\n",
    "    cv2.destroyAllWindows()"
   ]
  },
  {
   "cell_type": "markdown",
   "id": "2f3f69e9",
   "metadata": {},
   "source": [
    "# 6: Loading data and preparing it for training and testing"
   ]
  },
  {
   "cell_type": "code",
   "execution_count": 23,
   "id": "312e95fd",
   "metadata": {},
   "outputs": [],
   "source": [
    "# Importing important libraries\n",
    "\n",
    "from sklearn.model_selection import train_test_split\n",
    "from tensorflow.keras.utils import to_categorical"
   ]
  },
  {
   "cell_type": "code",
   "execution_count": 24,
   "id": "1c20a57d",
   "metadata": {},
   "outputs": [],
   "source": [
    "# Labeling actions for better understanding \n",
    "\n",
    "DATA_PATH = os.path.join('MP_Data') \n",
    "actions = np.array(['[]', 'a', 'b', 'c', 'd', 'e', 'f', 'g', 'h', 'i', 'j', 'k', 'l', 'm', \n",
    "                    'n', 'o', 'p', 'q', 'r', 's', 't', 'u', 'v', 'w', 'x', 'y', 'z'])\n",
    "label_map = {label:num for num, label in enumerate(actions)}\n",
    "print(label_map)"
   ]
  },
  {
   "cell_type": "code",
   "execution_count": null,
   "id": "288880ae",
   "metadata": {
    "scrolled": true
   },
   "outputs": [],
   "source": [
    "# Check number of data for each action\n",
    "\n",
    "folderdict = {}\n",
    "for action in actions:\n",
    "    try:\n",
    "        asdf = sorted([int(i) for i in os.listdir(os.path.join(DATA_PATH, action))])\n",
    "        folderdict[action] = asdf[-1]\n",
    "    except:\n",
    "        folderdict[action] = -1"
   ]
  },
  {
   "cell_type": "code",
   "execution_count": null,
   "id": "a4089f3f",
   "metadata": {
    "scrolled": false
   },
   "outputs": [],
   "source": [
    "# Load Data\n",
    "# NOTE: This cell might take long time\n",
    "\n",
    "start = time.time()\n",
    "sequences, labels = [], []\n",
    "for action in actions:\n",
    "    for sequence in range(folderdict[action] + 1):\n",
    "        window = []\n",
    "        for frame_num in range(sequence_length):\n",
    "            res = np.load(os.path.join(DATA_PATH, action, str(sequence), \"{}.npy\".format(frame_num)))\n",
    "            window.append(res)\n",
    "        print(f\"{action}->{sequence}\")\n",
    "        sequences.append(window)\n",
    "        labels.append(label_map[action])\n",
    "print(time.time() - start)"
   ]
  },
  {
   "cell_type": "code",
   "execution_count": 30,
   "id": "83223c54",
   "metadata": {},
   "outputs": [
    {
     "data": {
      "text/plain": [
       "(16200, 20, 258)"
      ]
     },
     "execution_count": 30,
     "metadata": {},
     "output_type": "execute_result"
    }
   ],
   "source": [
    "# Describing data\n",
    "\n",
    "print(f\"Number of data: {np.array(sequences).shape}\")\n",
    "print(f\"Number of labels: {np.array(labels).shape}\")\n",
    "X = np.array(sequences, dtype = object)\n",
    "print(f\"Shape of data: {X.shape}\")\n",
    "y = to_categorical(labels).astype(int)\n",
    "print(f\"Shape of labels: {y.shape}\")"
   ]
  },
  {
   "cell_type": "code",
   "execution_count": 36,
   "id": "780dd3c2",
   "metadata": {},
   "outputs": [],
   "source": [
    "# Spliting data for training, testing and validation\n",
    "\n",
    "X_train, X_test, y_train, y_test = train_test_split(X, y, test_size = 0.2)\n",
    "\n",
    "X_train, X_val, y_train, y_val = train_test_split(X_train, y_train, test_size = 0.25)\n",
    "\n",
    "X_train=np.asarray(X_train).astype(\"float32\")\n",
    "\n",
    "X_test = np.asarray(X_test).astype(\"float32\")\n",
    "\n",
    "X_val = np.asarray(X_val).astype(\"float32\")"
   ]
  },
  {
   "cell_type": "code",
   "execution_count": null,
   "id": "7cd3c3e5",
   "metadata": {
    "scrolled": true
   },
   "outputs": [],
   "source": [
    "# Shape of training, testing and validation data\n",
    "\n",
    "print(f\"Shape of training data: {X_train.shape}\")\n",
    "print(f\"Shape of testing data: {X_test.shape}\")\n",
    "print(f\"Shape of validation data: {X_val.shape}\")"
   ]
  },
  {
   "cell_type": "markdown",
   "id": "9f01fd0e",
   "metadata": {},
   "source": [
    "# 7: Training Model"
   ]
  },
  {
   "cell_type": "code",
   "execution_count": 40,
   "id": "678a7bdd",
   "metadata": {},
   "outputs": [],
   "source": [
    "# Importing libraries to build a neural network\n",
    "\n",
    "from tensorflow.keras.models import Sequential\n",
    "from tensorflow.keras.layers import LSTM, Dense\n",
    "from tensorflow.keras.callbacks import TensorBoard"
   ]
  },
  {
   "cell_type": "code",
   "execution_count": 41,
   "id": "408b9a76",
   "metadata": {},
   "outputs": [],
   "source": [
    "# Creating Logs for training\n",
    "\n",
    "log_dir = os.path.join(\"Logs\")\n",
    "tb_callback = TensorBoard(log_dir = log_dir)"
   ]
  },
  {
   "cell_type": "code",
   "execution_count": 42,
   "id": "ece52787",
   "metadata": {},
   "outputs": [],
   "source": [
    "# Building a model and initializing number of neurons in each layer\n",
    "\n",
    "model = Sequential()\n",
    "model.add(LSTM(64, return_sequences=True, activation='relu', input_shape=(20,258)))\n",
    "model.add(LSTM(128, return_sequences=True, activation='relu'))\n",
    "model.add(LSTM(64, return_sequences=False, activation='relu'))\n",
    "model.add(Dense(64, activation='relu'))\n",
    "model.add(Dense(32, activation='relu'))\n",
    "model.add(Dense(actions.shape[0], activation='softmax'))"
   ]
  },
  {
   "cell_type": "code",
   "execution_count": null,
   "id": "f25e31d4",
   "metadata": {
    "scrolled": false
   },
   "outputs": [],
   "source": [
    "# Fitting model for training\n",
    "\n",
    "model.compile(optimizer='Adam', loss='categorical_crossentropy', metrics=['categorical_accuracy'])\n",
    "model.fit(X_train, y_train, epochs=100, callbacks=[tb_callback])"
   ]
  },
  {
   "cell_type": "code",
   "execution_count": null,
   "id": "40cc1316",
   "metadata": {
    "scrolled": true
   },
   "outputs": [],
   "source": [
    "# Summary of the model\n",
    "\n",
    "model.summary()"
   ]
  },
  {
   "cell_type": "markdown",
   "id": "ddb22373",
   "metadata": {},
   "source": [
    "# 8: Checking results"
   ]
  },
  {
   "cell_type": "code",
   "execution_count": null,
   "id": "c69e2270",
   "metadata": {
    "scrolled": false
   },
   "outputs": [],
   "source": [
    "# Checking all mismatched labels during training\n",
    "\n",
    "print(\"Actual label : Predicted label\")\n",
    "for i in range(len(X_val)):\n",
    "    if actions[np.argmax(res_val[i])] != actions[np.argmax(y_val[i])]:\n",
    "        print(f\"{actions[np.argmax(res_val[i])]} : {actions[np.argmax(y_val[i])]}\")"
   ]
  },
  {
   "cell_type": "code",
   "execution_count": null,
   "id": "76d0d4d7",
   "metadata": {
    "scrolled": true
   },
   "outputs": [],
   "source": [
    "# All values in labels\n",
    "\n",
    "for i in range(len(y_val)):\n",
    "    print(actions[np.argmax(y_val[i])], end =\" \")"
   ]
  },
  {
   "cell_type": "markdown",
   "id": "481d7765",
   "metadata": {},
   "source": [
    "# 9: Saving model weight and loading them"
   ]
  },
  {
   "cell_type": "code",
   "execution_count": 54,
   "id": "f512f4a6",
   "metadata": {},
   "outputs": [],
   "source": [
    "# Saving weights of the model\n",
    "\n",
    "model.save('action.h5')"
   ]
  },
  {
   "cell_type": "code",
   "execution_count": 45,
   "id": "7e5847b0",
   "metadata": {},
   "outputs": [],
   "source": [
    "# Delete model\n",
    "# NOTE: Do not do it unless you have a better model or unsatisfied from current model\n",
    "\n",
    "del model"
   ]
  },
  {
   "cell_type": "code",
   "execution_count": 55,
   "id": "b0b0fecc",
   "metadata": {},
   "outputs": [],
   "source": [
    "# Load model and weight\n",
    "\n",
    "from keras.models import load_model\n",
    "model = load_model('action.h5')\n",
    "model.load_weights('action.h5')"
   ]
  },
  {
   "cell_type": "markdown",
   "id": "1ebf55e1",
   "metadata": {},
   "source": [
    "# 10: Checking accuracy over Validation set"
   ]
  },
  {
   "cell_type": "code",
   "execution_count": 49,
   "id": "f9f6bd22",
   "metadata": {},
   "outputs": [],
   "source": [
    "# Importing libraries\n",
    "\n",
    "from sklearn.metrics import multilabel_confusion_matrix, accuracy_score"
   ]
  },
  {
   "cell_type": "code",
   "execution_count": 50,
   "id": "416e5edb",
   "metadata": {},
   "outputs": [],
   "source": [
    "# Predict the labels and create a Confusion Matrix\n",
    "\n",
    "yhat = model.predict(X_val)\n",
    "ytrue = np.argmax(y_val, axis=1).tolist()\n",
    "yhat = np.argmax(yhat, axis=1).tolist()\n",
    "multilabel_confusion_matrix(ytrue, yhat)"
   ]
  },
  {
   "cell_type": "code",
   "execution_count": 57,
   "id": "3e191dbe",
   "metadata": {},
   "outputs": [
    {
     "data": {
      "text/plain": [
       "0.9879629629629629"
      ]
     },
     "execution_count": 57,
     "metadata": {},
     "output_type": "execute_result"
    }
   ],
   "source": [
    "# Accuracy of the model over Validation set\n",
    "\n",
    "accuracy_score(ytrue, yhat)"
   ]
  },
  {
   "cell_type": "code",
   "execution_count": null,
   "id": "8dcfc622",
   "metadata": {
    "scrolled": true
   },
   "outputs": [],
   "source": [
    "# Classifiaction report\n",
    "\n",
    "from sklearn.metrics import classification_report\n",
    "labels = [str(i) for i in \"_abcdefghijklmnopqrstuvwxyz\"]\n",
    "\n",
    "print(classification_report(ytrue, yhat, target_names=labels))"
   ]
  },
  {
   "cell_type": "code",
   "execution_count": null,
   "id": "2747b38a",
   "metadata": {
    "scrolled": true
   },
   "outputs": [],
   "source": [
    "# Importing libraries\n",
    "\n",
    "from sklearn.metrics import confusion_matrix\n",
    "import seaborn as sns\n",
    "import matplotlib.pyplot as plt\n",
    "\n",
    "# Plotting Confusion Matrix\n",
    "\n",
    "matrix_confusion = confusion_matrix(ytrue, yhat)\n",
    "plt.figure(figsize=(9,9))\n",
    "plt.xlabel('Predicted', size=15)\n",
    "plt.ylabel('True', size=15)\n",
    "plt.title(\"Confusion Matrix\", size=15)\n",
    "ax = fig.add_subplot(111)\n",
    "cax = ax.matshow(matrix_confusion)\n",
    "fig.colorbar(cax)\n",
    "sns.heatmap(matrix_confusion, annot=True, linewidth=0.5, cmap='Blues_r', fmt='d', cbar=False)"
   ]
  },
  {
   "cell_type": "markdown",
   "id": "8c504ceb",
   "metadata": {},
   "source": [
    "# 11: Checking accuracy over Test set"
   ]
  },
  {
   "cell_type": "code",
   "execution_count": 63,
   "id": "9bca10e4",
   "metadata": {},
   "outputs": [],
   "source": [
    "# Predict the labels\n",
    "\n",
    "yhat = model.predict(X_test)\n",
    "ytrue = np.argmax(y_test, axis=1).tolist()\n",
    "yhat = np.argmax(yhat, axis=1).tolist()"
   ]
  },
  {
   "cell_type": "code",
   "execution_count": null,
   "id": "bab5c064",
   "metadata": {},
   "outputs": [],
   "source": [
    "# Accuracy of the model over test set\n",
    "\n",
    "accuracy_score(ytrue, yhat)"
   ]
  },
  {
   "cell_type": "code",
   "execution_count": null,
   "id": "345e48f7",
   "metadata": {
    "scrolled": true
   },
   "outputs": [],
   "source": [
    "# Classification Report\n",
    "\n",
    "from sklearn.metrics import classification_report\n",
    "labels = [str(i) for i in \"_abcdefghijklmnopqrstuvwxyz\"]\n",
    "\n",
    "print(classification_report(ytrue, yhat, target_names=labels))"
   ]
  },
  {
   "cell_type": "code",
   "execution_count": null,
   "id": "8698c970",
   "metadata": {
    "scrolled": true
   },
   "outputs": [],
   "source": [
    "# Plotting Confusion Matrix\n",
    "\n",
    "matrix_confusion = confusion_matrix(ytrue, yhat)\n",
    "plt.figure(figsize=(9,9))\n",
    "plt.xlabel('Predicted', size=15)\n",
    "plt.ylabel('True', size=15)\n",
    "plt.title(\"Confusion Matrix\", size=15)\n",
    "ax = fig.add_subplot(111)\n",
    "cax = ax.matshow(matrix_confusion)\n",
    "fig.colorbar(cax)\n",
    "sns.heatmap(matrix_confusion, annot=True, linewidth=0.5, cmap='Blues_r', fmt='d', cbar=False)"
   ]
  },
  {
   "cell_type": "markdown",
   "id": "e6c0a82d",
   "metadata": {},
   "source": [
    "# 12: Real time predictions\n"
   ]
  },
  {
   "cell_type": "code",
   "execution_count": 69,
   "id": "35aaa8e6",
   "metadata": {},
   "outputs": [],
   "source": [
    "# Importing libreary\n",
    "\n",
    "from scipy import stats"
   ]
  },
  {
   "cell_type": "code",
   "execution_count": null,
   "id": "906c3951",
   "metadata": {
    "scrolled": true
   },
   "outputs": [],
   "source": [
    "# Prediction in real time\n",
    "\n",
    "sequence = []\n",
    "sentence = []\n",
    "predictions = []\n",
    "threshold = 0.5\n",
    "\n",
    "cap = cv2.VideoCapture(0)\n",
    "with mp_holistic.Holistic(min_detection_confidence=0.5, min_tracking_confidence=0.5) as holistic:\n",
    "    while cap.isOpened():\n",
    "\n",
    "        ret, frame = cap.read()\n",
    "        image, results = mediapipe_detection(frame, holistic)\n",
    "        draw_landmarks(image, results)\n",
    "        \n",
    "        keypoints = extract_keypoints(results)\n",
    "        sequence.append(keypoints)\n",
    "        sequence = sequence[-20:]\n",
    "        \n",
    "        if len(sequence) == 20:\n",
    "            res = model.predict(np.expand_dims(sequence, axis=0))[0]\n",
    "            if actions[np.argmax(res)] =='[]':\n",
    "                actions[np.argmax(res)] = \"\"\n",
    "                print(\"\", end=\" \")\n",
    "            else:\n",
    "                # Print predicted action\n",
    "                \n",
    "                print(actions[np.argmax(res)], end=\" \")\n",
    "            predictions.append(np.argmax(res))\n",
    "            \n",
    "            \n",
    "            if np.unique(predictions[-10:])[0]==np.argmax(res): \n",
    "                if res[np.argmax(res)] > threshold: \n",
    "                    \n",
    "                    if len(sentence) > 0: \n",
    "                        if actions[np.argmax(res)] != sentence[-1]:\n",
    "                            sentence.append(actions[np.argmax(res)])\n",
    "                    else:\n",
    "                        sentence.append(actions[np.argmax(res)])\n",
    "\n",
    "            if len(sentence) > 10: \n",
    "                sentence = sentence[-10:]\n",
    "\n",
    "        cv2.rectangle(image, (0,0), (640, 40), (245, 117, 16), -1)\n",
    "        cv2.putText(image, ''.join(sentence), (3,30), \n",
    "                       cv2.FONT_HERSHEY_SIMPLEX, 1, (255, 255, 255), 2, cv2.LINE_AA)\n",
    "        \n",
    "        cv2.imshow('OpenCV Feed', image)\n",
    "\n",
    "        # Press 'q' to exit\n",
    "        if cv2.waitKey(10) & 0xFF == ord('q'):\n",
    "            break\n",
    "    cap.release()\n",
    "    cv2.destroyAllWindows()"
   ]
  },
  {
   "cell_type": "code",
   "execution_count": null,
   "id": "ab71d48f",
   "metadata": {},
   "outputs": [],
   "source": []
  }
 ],
 "metadata": {
  "kernelspec": {
   "display_name": "Python 3",
   "language": "python",
   "name": "python3"
  },
  "language_info": {
   "codemirror_mode": {
    "name": "ipython",
    "version": 3
   },
   "file_extension": ".py",
   "mimetype": "text/x-python",
   "name": "python",
   "nbconvert_exporter": "python",
   "pygments_lexer": "ipython3",
   "version": "3.8.8"
  }
 },
 "nbformat": 4,
 "nbformat_minor": 5
}
